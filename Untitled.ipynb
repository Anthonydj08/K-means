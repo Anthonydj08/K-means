{
 "cells": [
  {
   "cell_type": "code",
   "execution_count": 87,
   "metadata": {},
   "outputs": [],
   "source": [
    "import csv\n",
    "from pandas import DataFrame\n",
    "import numpy as np\n",
    "import matplotlib.pyplot as plt\n",
    "import pandas as pd"
   ]
  },
  {
   "cell_type": "code",
   "execution_count": 88,
   "metadata": {},
   "outputs": [
    {
     "name": "stdout",
     "output_type": "stream",
     "text": [
      "80\n"
     ]
    }
   ],
   "source": [
    "f = open('dados2.csv', 'r')\n",
    "reader = csv.reader(f)\n",
    "\n",
    "fBin = open('binario2.csv', 'r')\n",
    "readerBin = csv.reader(fBin)\n",
    "\n",
    "tabela = []\n",
    "with open('dados2.csv') as csvfile:\n",
    "\t\treader = csv.reader(csvfile)\n",
    "\t\tfor row in reader:\n",
    "\t\t\t\ttabela.append(row)\n",
    "df = DataFrame(tabela, columns=['idade', 'cor', 'sexo', 'salario'])\n",
    "\n",
    "maior = int(df['idade'].max())\n",
    "print(maior)\n"
   ]
  },
  {
   "cell_type": "code",
   "execution_count": 89,
   "metadata": {},
   "outputs": [
    {
     "data": {
      "text/plain": [
       "10"
      ]
     },
     "execution_count": 89,
     "metadata": {},
     "output_type": "execute_result"
    }
   ],
   "source": [
    "def achaTamanho(x):\n",
    "    maior = 0\n",
    "    for row in readerBin:\n",
    "        a = str(row[x])\n",
    "        if maior < len(a):\n",
    "            maior = len(a)\n",
    "        print(a)\n",
    "    return str(maior)\n",
    "\n",
    "\n",
    "def decToBin(n):\n",
    "    binario = \"{0:b}\".format(n)\n",
    "    binarioformatado = ('{:0>{}}'.format(binario, achaTamanho(0)))\n",
    "    return binarioformatado\n",
    "\n",
    "\n",
    "def corToBin(cor):\n",
    "    if cor == \" Branco\":\n",
    "        corbin = \"{0:b}\".format(1)\n",
    "    elif cor == \" Azul\":\n",
    "        corbin = \"{0:b}\".format(2)\n",
    "    elif cor == \" Preto\":\n",
    "        corbin = \"{0:b}\".format(3)\n",
    "    elif cor == \" Verde\":\n",
    "        corbin = \"{0:b}\".format(4)\n",
    "    elif cor == \" Roxo\":\n",
    "        corbin = \"{0:b}\".format(5)\n",
    "\n",
    "    binarioformatado = str('{:0>4}'.format(corbin, achaTamanho(1)))\n",
    "    print(\"teste\", binarioformatado)\n",
    "    return binarioformatado\n",
    "\n",
    "\n",
    "def sexoToBin(sexo):\n",
    "    if sexo == \" F\" or sexo == \" f\":\n",
    "        sexoBin = 1\n",
    "    elif sexo == \" M\" or sexo == \" m\":\n",
    "        sexoBin = 0\n",
    "    return sexoBin\n",
    "len(df)"
   ]
  },
  {
   "cell_type": "code",
   "execution_count": 96,
   "metadata": {},
   "outputs": [
    {
     "name": "stdout",
     "output_type": "stream",
     "text": [
      "teste 0101\n",
      "teste 0010\n",
      "teste 0001\n",
      "teste 0100\n",
      "teste 0011\n",
      "teste 0010\n",
      "teste 0011\n",
      "teste 0001\n",
      "teste 0011\n",
      "teste 0001\n"
     ]
    }
   ],
   "source": [
    "for i, row in df.iterrows():\n",
    "    idade = int(df.iloc[i]['idade'])\n",
    "    cor = df.loc[i, 'cor']\n",
    "    sexo = df.loc[i, 'sexo']\n",
    "    idadeBinario = decToBin(idade)\n",
    "    corBinario = corToBin(cor)\n",
    "    sexoBinario = sexoToBin(sexo)\n",
    "    salario = 2500\n",
    "    dfBi = pd.Series([idadeBinario,idadeBinario,sexoBinario,salario], index=['idade', 'cor', 'sexo', 'salario'])\n",
    "export_csv = dfBi.to_csv (r'C:\\Users\\antho\\Documents\\GitHub\\K-means\\binario2.csv', index = None, header=True)\n"
   ]
  },
  {
   "cell_type": "code",
   "execution_count": null,
   "metadata": {},
   "outputs": [],
   "source": []
  }
 ],
 "metadata": {
  "kernelspec": {
   "display_name": "Python 3",
   "language": "python",
   "name": "python3"
  },
  "language_info": {
   "codemirror_mode": {
    "name": "ipython",
    "version": 3
   },
   "file_extension": ".py",
   "mimetype": "text/x-python",
   "name": "python",
   "nbconvert_exporter": "python",
   "pygments_lexer": "ipython3",
   "version": "3.7.3"
  }
 },
 "nbformat": 4,
 "nbformat_minor": 2
}
